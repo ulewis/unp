{
 "cells": [
  {
   "cell_type": "code",
   "execution_count": 1,
   "metadata": {},
   "outputs": [
    {
     "name": "stdout",
     "output_type": "stream",
     "text": [
      "Topic_c\n",
      "0    152\n",
      "1    152\n",
      "2    152\n",
      "3    152\n",
      "Name: count, dtype: int64\n",
      "Downsampling completado y archivo guardado.\n"
     ]
    },
    {
     "name": "stderr",
     "output_type": "stream",
     "text": [
      "C:\\Users\\ulewi\\AppData\\Local\\Temp\\ipykernel_26532\\2924475274.py:14: DeprecationWarning: DataFrameGroupBy.apply operated on the grouping columns. This behavior is deprecated, and in a future version of pandas the grouping columns will be excluded from the operation. Either pass `include_groups=False` to exclude the groupings or explicitly select the grouping columns after groupby to silence this warning.\n",
      "  df_downsampled = df.groupby('Topic_c').apply(lambda x: x.sample(min_samples, random_state=42)).reset_index(drop=True)\n"
     ]
    }
   ],
   "source": [
    "import pandas as pd\n",
    "\n",
    "# Cargar los datos\n",
    "file_path = \"data.xlsx\"\n",
    "df = pd.read_excel(file_path, sheet_name='data')\n",
    "\n",
    "# Contar el número de muestras por categoría\n",
    "category_counts = df['Topic_c'].value_counts()\n",
    "\n",
    "# Determinar el tamaño mínimo de las categorías\n",
    "min_samples = category_counts.min()\n",
    "\n",
    "# Realizar el downsampling\n",
    "df_downsampled = df.groupby('Topic_c').apply(lambda x: x.sample(min_samples, random_state=42)).reset_index(drop=True)\n",
    "\n",
    "# Mostrar el nuevo balance de categorías\n",
    "print(df_downsampled['Topic_c'].value_counts())\n",
    "\n",
    "# Guardar el dataset reducido en un nuevo archivo\n",
    "df_downsampled.to_excel(\"data_downsampled.xlsx\", index=False)\n",
    "\n",
    "print(\"Downsampling completado y archivo guardado.\")\n"
   ]
  }
 ],
 "metadata": {
  "kernelspec": {
   "display_name": "Python 3",
   "language": "python",
   "name": "python3"
  },
  "language_info": {
   "codemirror_mode": {
    "name": "ipython",
    "version": 3
   },
   "file_extension": ".py",
   "mimetype": "text/x-python",
   "name": "python",
   "nbconvert_exporter": "python",
   "pygments_lexer": "ipython3",
   "version": "3.10.16"
  }
 },
 "nbformat": 4,
 "nbformat_minor": 2
}
